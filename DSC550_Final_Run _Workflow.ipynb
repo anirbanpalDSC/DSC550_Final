{
 "cells": [
  {
   "cell_type": "markdown",
   "metadata": {},
   "source": [
    "#### 12.2 Final Project: Implement End-to-End Data Mining Pipeline\n",
    "\n",
    "In a previous exercise, you should have developed a project skeleton for an end-to-end data mining pipeline. Your final project will consist of implementing this pipeline including relevant changes (if any) your instructor or peers recommended. You should have multiple workflows in your workflows directory. On completion of the final project, you should be able to run each workflow and have it run the necessary tasks in order. The following is a notional directory structure you should follow for your final project.\n",
    "\n",
    "<img src=\"../Images/ex12-1.jpg\">"
   ]
  },
  {
   "cell_type": "code",
   "execution_count": 4,
   "metadata": {},
   "outputs": [],
   "source": [
    "# import module to suppress warnings\n",
    "import warnings\n",
    "import sys\n",
    "\n",
    "if not sys.warnoptions:\n",
    "    warnings.simplefilter(\"ignore\")\n",
    "\n",
    "# import workflow module\n",
    "from workflows import workflow_topicmodelling"
   ]
  },
  {
   "cell_type": "code",
   "execution_count": null,
   "metadata": {
    "scrolled": false
   },
   "outputs": [],
   "source": [
    "# define directories and file name\n",
    "src_file = 'data/source/'\n",
    "des_file = 'data/processed/'\n",
    "filename = 'controversial-comments.jsonl'\n",
    "\n",
    "# run workflow\n",
    "workflow_topicmodelling.run_wf(src_file, des_file, filename)"
   ]
  }
 ],
 "metadata": {
  "kernelspec": {
   "display_name": "Python 3",
   "language": "python",
   "name": "python3"
  },
  "language_info": {
   "codemirror_mode": {
    "name": "ipython",
    "version": 3
   },
   "file_extension": ".py",
   "mimetype": "text/x-python",
   "name": "python",
   "nbconvert_exporter": "python",
   "pygments_lexer": "ipython3",
   "version": "3.7.3"
  }
 },
 "nbformat": 4,
 "nbformat_minor": 2
}
